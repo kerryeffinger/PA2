{
 "cells": [
  {
   "cell_type": "markdown",
   "metadata": {},
   "source": [
    "# Programming Assignment 2\n",
    "---\n",
    "**Author:** Kerry Effinger  \n",
    "**Version:** 1.0  \n",
    "**Semester:** Fall 2020  \n",
    "\n",
    "This *notebook* contains my solution to **Programming Assignment 2**\n",
    "\n",
    "- Problem 1:  Awesome first solution.\n",
    "- Problem 2: Awesome second solution.\n",
    "- Problem 3: Awesome third solution."
   ]
  },
  {
   "cell_type": "code",
   "execution_count": 63,
   "metadata": {},
   "outputs": [
    {
     "name": "stdout",
     "output_type": "stream",
     "text": [
      "0\n",
      "1\n",
      "2\n",
      "3\n",
      "4\n",
      "5\n",
      "6 *\n",
      "7\n",
      "8\n",
      "9 *\n",
      "10\n",
      "11\n",
      "12 *\n",
      "13\n",
      "14\n",
      "15 *\n",
      "16\n",
      "17\n",
      "18 *\n",
      "19\n",
      "20\n",
      "21 *\n",
      "22\n",
      "23\n",
      "24 *\n",
      "25\n",
      "26\n",
      "27 *\n",
      "28\n",
      "29\n",
      "30 *\n",
      "31\n",
      "32\n",
      "33 *\n",
      "34\n",
      "35\n",
      "36 *\n",
      "37\n",
      "38\n",
      "39 *\n",
      "40\n",
      "41\n",
      "42 *\n",
      "43\n",
      "44\n",
      "45 *\n",
      "46\n",
      "47\n",
      "48 *\n",
      "49\n",
      "50\n",
      "51 *\n",
      "52\n",
      "53\n",
      "54 *\n",
      "55\n",
      "56\n",
      "57 *\n",
      "58\n",
      "59\n",
      "60 *\n",
      "61\n",
      "62\n",
      "63 *\n",
      "64\n",
      "65\n",
      "66 *\n",
      "67\n",
      "68\n",
      "69 *\n",
      "70\n",
      "71\n",
      "72 *\n",
      "73\n",
      "74\n",
      "75 *\n",
      "76\n",
      "77\n",
      "78 *\n",
      "79\n",
      "80\n",
      "81 *\n",
      "82\n",
      "83\n",
      "84 *\n",
      "85\n",
      "86\n",
      "87 *\n",
      "88\n",
      "89\n",
      "90 *\n",
      "91\n",
      "92\n",
      "93 *\n",
      "94\n",
      "95\n",
      "96 *\n",
      "97\n",
      "98\n",
      "99 *\n"
     ]
    }
   ],
   "source": [
    "num = 0\n",
    "for num in range(100):\n",
    "    if num>3 and num %3==0:\n",
    "        print(num, '*')\n",
    "    else: \n",
    "        print(num)\n",
    "    \n",
    "    \n",
    "    # how do i do the asterisk thing?\n",
    "    "
   ]
  },
  {
   "cell_type": "code",
   "execution_count": 56,
   "metadata": {},
   "outputs": [
    {
     "name": "stdout",
     "output_type": "stream",
     "text": [
      "what is the subject's age?5\n",
      "minor\n",
      "what is the subject's age?15\n",
      "minor\n",
      "what is the subject's age?34\n",
      "adult\n",
      "what is the subject's age?90\n",
      "senior citizen\n",
      "what is the subject's age?0\n"
     ]
    }
   ],
   "source": [
    "age = int(input(\"what is the subject's age?\"))\n",
    "while age>0:\n",
    "    if age <18:\n",
    "        print (\"minor\")\n",
    "    if age >= 18 and age<=64:\n",
    "        print (\"adult\")\n",
    "    if age >64:\n",
    "        print(\"senior citizen\")\n",
    "    age = int(input(\"what is the subject's age?\"))    "
   ]
  },
  {
   "cell_type": "code",
   "execution_count": 55,
   "metadata": {},
   "outputs": [
    {
     "name": "stdout",
     "output_type": "stream",
     "text": [
      "12 : minor\n",
      "34 : adult\n",
      "56 : adult\n",
      "13 : minor\n",
      "14 : minor\n",
      "18 : adult\n",
      "25 : adult\n",
      "67 : senior citizen\n",
      "80 : senior citizen\n",
      "78 : senior citizen\n"
     ]
    }
   ],
   "source": [
    "ages = [12,34,56,13,14,18,25,67,80,78]\n",
    "\n",
    "for age in ages:\n",
    "    if age <18:\n",
    "        print (age,\": minor\")\n",
    "    if age >= 18 and age<=64:\n",
    "        print (age,\": adult\")\n",
    "    if age >64:\n",
    "        print(age,\": senior citizen\")"
   ]
  }
 ],
 "metadata": {
  "kernelspec": {
   "display_name": "Python 3",
   "language": "python",
   "name": "python3"
  },
  "language_info": {
   "codemirror_mode": {
    "name": "ipython",
    "version": 3
   },
   "file_extension": ".py",
   "mimetype": "text/x-python",
   "name": "python",
   "nbconvert_exporter": "python",
   "pygments_lexer": "ipython3",
   "version": "3.8.3"
  }
 },
 "nbformat": 4,
 "nbformat_minor": 4
}
